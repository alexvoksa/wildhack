{
 "cells": [
  {
   "cell_type": "code",
   "execution_count": 5,
   "id": "vital-lobby",
   "metadata": {},
   "outputs": [],
   "source": [
    "import cv2\n",
    "import numpy as np\n",
    "from PIL import Image\n",
    "import json\n",
    "import os\n",
    "import pandas as pd\n",
    "\n",
    "def compute(json_folder_path: str, train_base_folder: str, mask_folder: str, train_cropped_folder: str, csv_folder: str):\n",
    "    fish_amounts = {}\n",
    "    roi_corners = np.array([(2658, 1400), (597, 3741), (5060, 3586)], dtype=np.int32)\n",
    "    \n",
    "    for json_data in os.listdir(json_folder_path):\n",
    "        if not json_data.endswith(\".json\"):\n",
    "            continue\n",
    "        with open(f\"{json_folder_path}/{json_data}\", 'r') as f:\n",
    "            data = json.loads(f.read())\n",
    "        coords = {}\n",
    "        \n",
    "        for i in data:\n",
    "            key = \"G\" + i[\"file_upload\"].split(\"-G\")[-1]\n",
    "            img = cv2.imread(f\"{train_base_folder}/{key}\")\n",
    "\n",
    "            for j in i[\"annotations\"]:\n",
    "                for k in j[\"result\"]:\n",
    "                    try:\n",
    "                        xy = dict({\"x\": int(k[\"value\"].get(\"x\")), \"y\": int(k[\"value\"].get(\"y\"))})\n",
    "                    except TypeError:\n",
    "                        xy = dict({\"x\": None, \"y\": None})\n",
    "                    if coords.get(key):\n",
    "                        coords[key].append(xy)\n",
    "                    else:\n",
    "                        coords[key] = [xy]\n",
    "\n",
    "        for i in data:\n",
    "            key = \"G\" + i[\"file_upload\"].split(\"-G\")[-1]\n",
    "            value = coords.get(key)\n",
    "            mask = np.zeros(img.shape[:-1]).astype(np.uint8)\n",
    "\n",
    "            img = cv2.imread(f\"{train_base_folder}/{key}\")\n",
    "            mask2 = np.zeros(img.shape[:-1]).astype(np.uint8)\n",
    "            cv2.drawContours(mask2, [roi_corners], 0, (255), -1)\n",
    "            masked_image = cv2.bitwise_and(img, img, mask=mask2)\n",
    "\n",
    "            im2 = Image.fromarray(masked_image)\n",
    "            path2 = f\"{train_cropped_folder}/{key}\"\n",
    "            im2.save(path2)\n",
    "            \n",
    "            fish_amount = 0\n",
    "            if value:\n",
    "                for i in value:\n",
    "                    x = i.get(\"x\")\n",
    "                    y = i.get(\"y\")\n",
    "                    if x and y:\n",
    "                        mask[x, y] = np.uint8(255.0)\n",
    "                        fish_amount += 1\n",
    "                        \n",
    "            else:        \n",
    "                im = Image.fromarray(mask)\n",
    "                path = f\"{mask_folder}/\" + key.replace(\".JPG\", \".png\")\n",
    "                im.save(path)\n",
    "            if fish_amounts.get(key):\n",
    "                fish_amounts[key] += fish_amount\n",
    "            else:\n",
    "                fish_amounts[key] = fish_amount\n",
    "                \n",
    "    csv_data = pd.DataFrame.from_dict(fish_amounts, orient=\"index\")\n",
    "    csv_data = csv_data.reset_index()\n",
    "    csv_data.head()\n",
    "    csv_data.columns = [\"filename\", \"quantity\"]\n",
    "    csv_data.to_csv(f\"{csv_folder}/fish_amount.csv\", index=False)"
   ]
  },
  {
   "cell_type": "code",
   "execution_count": 6,
   "id": "capable-reset",
   "metadata": {},
   "outputs": [],
   "source": [
    "compute(\"json\", \"train1\", \"mask\", \"train_cropped\", \"csv\")"
   ]
  },
  {
   "cell_type": "code",
   "execution_count": null,
   "id": "contemporary-netherlands",
   "metadata": {},
   "outputs": [],
   "source": []
  },
  {
   "cell_type": "code",
   "execution_count": 111,
   "id": "typical-fifteen",
   "metadata": {},
   "outputs": [],
   "source": [
    "from PIL.ExifTags import TAGS\n",
    "import matplotlib.pyplot as plt\n",
    "from datetime import datetime"
   ]
  },
  {
   "cell_type": "code",
   "execution_count": 361,
   "id": "premier-place",
   "metadata": {},
   "outputs": [],
   "source": [
    "def get_dataframe_timeseries(train_images_folder: str, csv_folder: str, csv_filename: str):\n",
    "    xdata = []\n",
    "    for i in os.listdir(train_images_folder):\n",
    "\n",
    "        container = {}\n",
    "        image = Image.open(f\"{train_images_folder}/{i}\")\n",
    "\n",
    "        exifdata = image.getexif()\n",
    "\n",
    "        for tag_id in exifdata:\n",
    "            tag = TAGS.get(tag_id, tag_id)\n",
    "            data = exifdata.get(tag_id)\n",
    "            if tag == \"DateTimeOriginal\":\n",
    "                container[\"date\"] = datetime.strptime(data, \"%Y:%m:%d %H:%M:%S\")\n",
    "            if tag == \"GPSInfo\":\n",
    "                container[\"N\"] = float(data[2][0]) + float(data[2][1]/60) + float(data[2][2]/3600)\n",
    "                container[\"E\"] = float(data[4][0]) + float(data[4][1]/60) + float(data[4][2]/3600)\n",
    "\n",
    "        container[\"filename\"] = i\n",
    "        xdata.append(container)\n",
    "\n",
    "    z = pd.DataFrame(xdata)\n",
    "    csv_data = pd.read_csv(f\"{csv_folder}/{csv_filename}.csv\")\n",
    "    y = pd.merge(left=z, right=csv_data, on=\"filename\", how=\"outer\")\n",
    "    y = y.set_index(\"date\")\n",
    "    return y\n",
    "\n",
    "# get_dataframe_timeseries(\"train1\", \"csv\", \"fish_amount\")\n",
    "\n",
    "def compute_traectories(json_folder_path):\n",
    "    coords = {}\n",
    "    for json_data in os.listdir(json_folder_path):\n",
    "        if not json_data.endswith(\".json\"):\n",
    "            continue\n",
    "        with open(f\"{json_folder_path}/{json_data}\", 'r') as f:\n",
    "            data = json.loads(f.read())\n",
    "\n",
    "        for i in data:\n",
    "            key = \"G\" + i[\"file_upload\"].split(\"-G\")[-1]\n",
    "            for j in i[\"annotations\"]:\n",
    "                for k in j[\"result\"]:\n",
    "                    try:\n",
    "                        xy = (int(k[\"value\"].get(\"x\")), int(k[\"value\"].get(\"y\")))\n",
    "                    except TypeError:\n",
    "                        xy = (None, None)\n",
    "                    if coords.get(key):\n",
    "                        coords[key].append(xy)\n",
    "                    else:\n",
    "                        coords[key] = [xy]\n",
    "    return coords"
   ]
  },
  {
   "cell_type": "code",
   "execution_count": 362,
   "id": "popular-encounter",
   "metadata": {},
   "outputs": [],
   "source": [
    "j = compute_traectories(\"json\")"
   ]
  },
  {
   "cell_type": "code",
   "execution_count": 363,
   "id": "turned-notebook",
   "metadata": {},
   "outputs": [],
   "source": [
    "ddd = []\n",
    "for key, value in j.items():\n",
    "    for coord in value:\n",
    "        ddd.append((key, *coord))"
   ]
  },
  {
   "cell_type": "code",
   "execution_count": 364,
   "id": "neutral-province",
   "metadata": {},
   "outputs": [],
   "source": [
    "dfx = pd.DataFrame(ddd, columns=[\"filename\", \"x\", \"y\"])"
   ]
  },
  {
   "cell_type": "code",
   "execution_count": 365,
   "id": "suitable-affect",
   "metadata": {},
   "outputs": [],
   "source": [
    "ts = get_dataframe_timeseries(\"train1\", \"csv\", \"fish_amount\")"
   ]
  },
  {
   "cell_type": "code",
   "execution_count": 366,
   "id": "informed-profile",
   "metadata": {},
   "outputs": [],
   "source": [
    "ts2 = pd.merge(left=ts.reset_index(), right=dfx, on=\"filename\", how=\"outer\")\n",
    "ts2 = ts2.sort_values(by=\"date\", ascending=True)"
   ]
  },
  {
   "cell_type": "code",
   "execution_count": 367,
   "id": "typical-bankruptcy",
   "metadata": {},
   "outputs": [],
   "source": [
    "ts2 = ts2.set_index(\"date\")\n",
    "# ts2 = ts2.reset_index()"
   ]
  },
  {
   "cell_type": "code",
   "execution_count": 369,
   "id": "dramatic-decimal",
   "metadata": {},
   "outputs": [],
   "source": [
    "ts2.to_csv(\"web/data.csv\")"
   ]
  },
  {
   "cell_type": "code",
   "execution_count": null,
   "id": "heated-crown",
   "metadata": {},
   "outputs": [],
   "source": []
  }
 ],
 "metadata": {
  "kernelspec": {
   "display_name": "Python 3",
   "language": "python",
   "name": "python3"
  },
  "language_info": {
   "codemirror_mode": {
    "name": "ipython",
    "version": 3
   },
   "file_extension": ".py",
   "mimetype": "text/x-python",
   "name": "python",
   "nbconvert_exporter": "python",
   "pygments_lexer": "ipython3",
   "version": "3.9.1"
  }
 },
 "nbformat": 4,
 "nbformat_minor": 5
}
